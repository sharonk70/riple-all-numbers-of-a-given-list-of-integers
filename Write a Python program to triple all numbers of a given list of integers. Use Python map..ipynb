{
 "cells": [
  {
   "cell_type": "code",
   "execution_count": 1,
   "id": "78b53343",
   "metadata": {},
   "outputs": [
    {
     "name": "stdout",
     "output_type": "stream",
     "text": [
      "Use comma while giving input :1,2,3,4,5,6,7\n",
      "Number List: [1, 2, 3, 4, 5, 6, 7]\n",
      "Triple Number:\n",
      "[3, 6, 9, 12, 15, 18, 21]\n"
     ]
    }
   ],
   "source": [
    "No_ = list(map(int,input('Use comma while giving input :').split(\",\")))\n",
    "print(\"Number List:\", No_)\n",
    "final = map(lambda x: x*3, No_)\n",
    "print(\"Triple Number:\")\n",
    "print(list(final))"
   ]
  },
  {
   "cell_type": "code",
   "execution_count": null,
   "id": "141a3cb2",
   "metadata": {},
   "outputs": [],
   "source": []
  }
 ],
 "metadata": {
  "kernelspec": {
   "display_name": "Python 3",
   "language": "python",
   "name": "python3"
  },
  "language_info": {
   "codemirror_mode": {
    "name": "ipython",
    "version": 3
   },
   "file_extension": ".py",
   "mimetype": "text/x-python",
   "name": "python",
   "nbconvert_exporter": "python",
   "pygments_lexer": "ipython3",
   "version": "3.8.8"
  }
 },
 "nbformat": 4,
 "nbformat_minor": 5
}
